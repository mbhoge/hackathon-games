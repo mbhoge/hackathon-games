{
  "nbformat": 4,
  "nbformat_minor": 0,
  "metadata": {
    "colab": {
      "provenance": [],
      "authorship_tag": "ABX9TyN40xKKvxJtDyqGGrlvLxMq",
      "include_colab_link": true
    },
    "kernelspec": {
      "name": "python3",
      "display_name": "Python 3"
    },
    "language_info": {
      "name": "python"
    }
  },
  "cells": [
    {
      "cell_type": "markdown",
      "metadata": {
        "id": "view-in-github",
        "colab_type": "text"
      },
      "source": [
        "<a href=\"https://colab.research.google.com/github/mbhoge/hackathon-games/blob/main/classification_prompt_01.ipynb\" target=\"_parent\"><img src=\"https://colab.research.google.com/assets/colab-badge.svg\" alt=\"Open In Colab\"/></a>"
      ]
    },
    {
      "cell_type": "code",
      "execution_count": 1,
      "metadata": {
        "colab": {
          "base_uri": "https://localhost:8080/",
          "height": 404
        },
        "id": "oPgLseHAgAXW",
        "outputId": "4467a2e0-43e2-4c55-8a28-00ac2e9f598e"
      },
      "outputs": [
        {
          "output_type": "error",
          "ename": "ModuleNotFoundError",
          "evalue": "No module named 'docx'",
          "traceback": [
            "\u001b[0;31m---------------------------------------------------------------------------\u001b[0m",
            "\u001b[0;31mModuleNotFoundError\u001b[0m                       Traceback (most recent call last)",
            "\u001b[0;32m<ipython-input-1-224b5ad06a39>\u001b[0m in \u001b[0;36m<cell line: 1>\u001b[0;34m()\u001b[0m\n\u001b[0;32m----> 1\u001b[0;31m \u001b[0;32mimport\u001b[0m \u001b[0mdocx\u001b[0m\u001b[0;34m\u001b[0m\u001b[0;34m\u001b[0m\u001b[0m\n\u001b[0m\u001b[1;32m      2\u001b[0m \u001b[0;32mimport\u001b[0m \u001b[0mtextract\u001b[0m\u001b[0;34m\u001b[0m\u001b[0;34m\u001b[0m\u001b[0m\n\u001b[1;32m      3\u001b[0m \u001b[0;32mimport\u001b[0m \u001b[0mnest_asyncio\u001b[0m\u001b[0;34m\u001b[0m\u001b[0;34m\u001b[0m\u001b[0m\n\u001b[1;32m      4\u001b[0m \u001b[0;32mfrom\u001b[0m \u001b[0mPyPDF2\u001b[0m \u001b[0;32mimport\u001b[0m \u001b[0mPdfReader\u001b[0m\u001b[0;34m\u001b[0m\u001b[0;34m\u001b[0m\u001b[0m\n\u001b[1;32m      5\u001b[0m \u001b[0;34m\u001b[0m\u001b[0m\n",
            "\u001b[0;31mModuleNotFoundError\u001b[0m: No module named 'docx'",
            "",
            "\u001b[0;31m---------------------------------------------------------------------------\u001b[0;32m\nNOTE: If your import is failing due to a missing package, you can\nmanually install dependencies using either !pip or !apt.\n\nTo view examples of installing some common dependencies, click the\n\"Open Examples\" button below.\n\u001b[0;31m---------------------------------------------------------------------------\u001b[0m\n"
          ],
          "errorDetails": {
            "actions": [
              {
                "action": "open_url",
                "actionText": "Open Examples",
                "url": "/notebooks/snippets/importing_libraries.ipynb"
              }
            ]
          }
        }
      ],
      "source": [
        "import textract\n",
        "import nest_asyncio\n",
        "from PyPDF2 import PdfReader\n",
        "\n",
        "import requests\n",
        "import openai\n",
        "# from langchain_openai import AzureChatOpenAI\n",
        "import os\n",
        "\n",
        "\n",
        "import json"
      ]
    },
    {
      "cell_type": "code",
      "source": [
        "def extract_text_from_pdf(pdf_path):\n",
        "    print(pdf_path)\n",
        "    # creating a pdf reader object\n",
        "    reader = PdfReader(pdf_path)\n",
        "    pages = reader.pages\n",
        "    textContent = []\n",
        "\n",
        "    for page in pages:\n",
        "        text = page.extract_text()\n",
        "        textContent.append(text)\n",
        "    return textContent"
      ],
      "metadata": {
        "id": "hixa2ellgmzi"
      },
      "execution_count": null,
      "outputs": []
    },
    {
      "cell_type": "code",
      "source": [
        "def extract_text_from_url(urlpath):\n",
        "    from langchain.document_loaders import AsyncChromiumLoader\n",
        "    from langchain.document_transformers import BeautifulSoupTransformer\n",
        "\n",
        "    # Load HTML\n",
        "    loader = AsyncChromiumLoader([urlpath])\n",
        "    loader.is_async = False\n",
        "    html = loader.load()\n",
        "    # Transform\n",
        "    bs_transformer = BeautifulSoupTransformer()\n",
        "    docs_transformed = bs_transformer.transform_documents(html, tags_to_extract=[\"p\", \"li\", \"div\", \"a\"])\n",
        "    text = docs_transformed[0].page_content\n",
        "    return text"
      ],
      "metadata": {
        "id": "fR9xqGGSguDz"
      },
      "execution_count": null,
      "outputs": []
    }
  ]
}